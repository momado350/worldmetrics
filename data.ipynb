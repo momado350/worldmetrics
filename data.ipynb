{
 "cells": [
  {
   "cell_type": "code",
   "execution_count": 1,
   "metadata": {},
   "outputs": [
    {
     "ename": "Exception",
     "evalue": "Cannot use HTMLSession within an existing event loop. Use AsyncHTMLSession instead.",
     "output_type": "error",
     "traceback": [
      "\u001b[1;31m---------------------------------------------------------------------------\u001b[0m",
      "\u001b[1;31mRuntimeError\u001b[0m                              Traceback (most recent call last)",
      "File \u001b[1;32mc:\\Users\\momad\\anaconda3\\envs\\worldmetric\\lib\\site-packages\\worldometer\\core.py:234\u001b[0m, in \u001b[0;36mWorldometer._get_html\u001b[1;34m(self, url)\u001b[0m\n\u001b[0;32m    233\u001b[0m \u001b[39mself\u001b[39m\u001b[39m.\u001b[39m__r \u001b[39m=\u001b[39m session\u001b[39m.\u001b[39mget(url, timeout\u001b[39m=\u001b[39m\u001b[39mself\u001b[39m\u001b[39m.\u001b[39m__timeout)\n\u001b[1;32m--> 234\u001b[0m \u001b[39mself\u001b[39;49m\u001b[39m.\u001b[39;49m__r\u001b[39m.\u001b[39;49mhtml\u001b[39m.\u001b[39;49mrender(timeout\u001b[39m=\u001b[39;49m\u001b[39mself\u001b[39;49m\u001b[39m.\u001b[39;49m__timeout)\n\u001b[0;32m    236\u001b[0m \u001b[39mreturn\u001b[39;00m \u001b[39mself\u001b[39m\u001b[39m.\u001b[39m__r\u001b[39m.\u001b[39mhtml\u001b[39m.\u001b[39mraw_html\n",
      "File \u001b[1;32mc:\\Users\\momad\\anaconda3\\envs\\worldmetric\\lib\\site-packages\\requests_html.py:586\u001b[0m, in \u001b[0;36mHTML.render\u001b[1;34m(self, retries, script, wait, scrolldown, sleep, reload, timeout, keep_page)\u001b[0m\n\u001b[0;32m    542\u001b[0m \u001b[39m\u001b[39m\u001b[39m\"\"\"Reloads the response in Chromium, and replaces HTML content\u001b[39;00m\n\u001b[0;32m    543\u001b[0m \u001b[39mwith an updated version, with JavaScript executed.\u001b[39;00m\n\u001b[0;32m    544\u001b[0m \n\u001b[1;32m   (...)\u001b[0m\n\u001b[0;32m    583\u001b[0m \u001b[39mChromium into your home directory (``~/.pyppeteer``).\u001b[39;00m\n\u001b[0;32m    584\u001b[0m \u001b[39m\"\"\"\u001b[39;00m\n\u001b[1;32m--> 586\u001b[0m \u001b[39mself\u001b[39m\u001b[39m.\u001b[39mbrowser \u001b[39m=\u001b[39m \u001b[39mself\u001b[39;49m\u001b[39m.\u001b[39;49msession\u001b[39m.\u001b[39;49mbrowser  \u001b[39m# Automatically create a event loop and browser\u001b[39;00m\n\u001b[0;32m    587\u001b[0m content \u001b[39m=\u001b[39m \u001b[39mNone\u001b[39;00m\n",
      "File \u001b[1;32mc:\\Users\\momad\\anaconda3\\envs\\worldmetric\\lib\\site-packages\\requests_html.py:729\u001b[0m, in \u001b[0;36mHTMLSession.browser\u001b[1;34m(self)\u001b[0m\n\u001b[0;32m    728\u001b[0m \u001b[39mif\u001b[39;00m \u001b[39mself\u001b[39m\u001b[39m.\u001b[39mloop\u001b[39m.\u001b[39mis_running():\n\u001b[1;32m--> 729\u001b[0m     \u001b[39mraise\u001b[39;00m \u001b[39mRuntimeError\u001b[39;00m(\u001b[39m\"\u001b[39m\u001b[39mCannot use HTMLSession within an existing event loop. Use AsyncHTMLSession instead.\u001b[39m\u001b[39m\"\u001b[39m)\n\u001b[0;32m    730\u001b[0m \u001b[39mself\u001b[39m\u001b[39m.\u001b[39m_browser \u001b[39m=\u001b[39m \u001b[39mself\u001b[39m\u001b[39m.\u001b[39mloop\u001b[39m.\u001b[39mrun_until_complete(\u001b[39msuper\u001b[39m()\u001b[39m.\u001b[39mbrowser)\n",
      "\u001b[1;31mRuntimeError\u001b[0m: Cannot use HTMLSession within an existing event loop. Use AsyncHTMLSession instead.",
      "\nDuring handling of the above exception, another exception occurred:\n",
      "\u001b[1;31mException\u001b[0m                                 Traceback (most recent call last)",
      "Cell \u001b[1;32mIn[1], line 3\u001b[0m\n\u001b[0;32m      1\u001b[0m \u001b[39m#!pip install worldometer\u001b[39;00m\n\u001b[0;32m      2\u001b[0m \u001b[39m#pip install worldometer\u001b[39;00m\n\u001b[1;32m----> 3\u001b[0m \u001b[39mimport\u001b[39;00m \u001b[39mworldometer\u001b[39;00m\n\u001b[0;32m      5\u001b[0m pop \u001b[39m=\u001b[39m worldometer\u001b[39m.\u001b[39mcurrent_world_population()\n\u001b[0;32m      6\u001b[0m \u001b[39m#{'current_world_population': 7845085923}\u001b[39;00m\n",
      "File \u001b[1;32mc:\\Users\\momad\\anaconda3\\envs\\worldmetric\\lib\\site-packages\\worldometer\\__init__.py:84\u001b[0m\n\u001b[0;32m     81\u001b[0m \u001b[39mfrom\u001b[39;00m \u001b[39m.\u001b[39;00m\u001b[39m__about__\u001b[39;00m \u001b[39mimport\u001b[39;00m __version__, __author__, __email__\n\u001b[0;32m     83\u001b[0m \u001b[39mfrom\u001b[39;00m \u001b[39m.\u001b[39;00m\u001b[39mcore\u001b[39;00m \u001b[39mimport\u001b[39;00m Worldometer\n\u001b[1;32m---> 84\u001b[0m \u001b[39mfrom\u001b[39;00m \u001b[39m.\u001b[39;00m\u001b[39mapi\u001b[39;00m \u001b[39mimport\u001b[39;00m \u001b[39m*\u001b[39m\n",
      "File \u001b[1;32mc:\\Users\\momad\\anaconda3\\envs\\worldmetric\\lib\\site-packages\\worldometer\\api.py:108\u001b[0m\n\u001b[0;32m    103\u001b[0m \u001b[39mfrom\u001b[39;00m \u001b[39m.\u001b[39;00m\u001b[39mcore\u001b[39;00m \u001b[39mimport\u001b[39;00m Worldometer\n\u001b[0;32m    105\u001b[0m \u001b[39mfrom\u001b[39;00m \u001b[39m.\u001b[39;00m\u001b[39m__about__\u001b[39;00m \u001b[39mimport\u001b[39;00m __version__, __author__, __email__\n\u001b[1;32m--> 108\u001b[0m __w \u001b[39m=\u001b[39m Worldometer()\n\u001b[0;32m    111\u001b[0m \u001b[39mdef\u001b[39;00m \u001b[39mget_metric_of\u001b[39m(label: \u001b[39mstr\u001b[39m) \u001b[39m-\u001b[39m\u001b[39m>\u001b[39m \u001b[39mdict\u001b[39m:\n\u001b[0;32m    112\u001b[0m \u001b[39m    \u001b[39m\u001b[39m\"\"\"Get metric of label specified.\u001b[39;00m\n\u001b[0;32m    113\u001b[0m \u001b[39m    \u001b[39;00m\n\u001b[0;32m    114\u001b[0m \u001b[39m    Parameters\u001b[39;00m\n\u001b[1;32m   (...)\u001b[0m\n\u001b[0;32m    127\u001b[0m \u001b[39m    {'current_world_population': 7845085923}\u001b[39;00m\n\u001b[0;32m    128\u001b[0m \u001b[39m    \"\"\"\u001b[39;00m\n",
      "File \u001b[1;32mc:\\Users\\momad\\anaconda3\\envs\\worldmetric\\lib\\site-packages\\worldometer\\core.py:181\u001b[0m, in \u001b[0;36mWorldometer.__init__\u001b[1;34m(self, timeout)\u001b[0m\n\u001b[0;32m    177\u001b[0m \u001b[39mself\u001b[39m\u001b[39m.\u001b[39m__r \u001b[39m=\u001b[39m \u001b[39mNone\u001b[39;00m  \u001b[39m# Stores the response with html code for later rendering\u001b[39;00m\n\u001b[0;32m    179\u001b[0m \u001b[39mself\u001b[39m\u001b[39m.\u001b[39m__timeout \u001b[39m=\u001b[39m timeout\n\u001b[1;32m--> 181\u001b[0m \u001b[39mself\u001b[39m\u001b[39m.\u001b[39m_metrics \u001b[39m=\u001b[39m \u001b[39mself\u001b[39;49m\u001b[39m.\u001b[39;49mcollect_metrics()\n",
      "File \u001b[1;32mc:\\Users\\momad\\anaconda3\\envs\\worldmetric\\lib\\site-packages\\worldometer\\core.py:300\u001b[0m, in \u001b[0;36mWorldometer.collect_metrics\u001b[1;34m(self)\u001b[0m\n\u001b[0;32m    291\u001b[0m \u001b[39m\u001b[39m\u001b[39m\"\"\"Collects all metrics from the worldometer site.\u001b[39;00m\n\u001b[0;32m    292\u001b[0m \n\u001b[0;32m    293\u001b[0m \u001b[39mReturns\u001b[39;00m\n\u001b[1;32m   (...)\u001b[0m\n\u001b[0;32m    296\u001b[0m \u001b[39m    A list of metrics of int type.\u001b[39;00m\n\u001b[0;32m    297\u001b[0m \u001b[39m\"\"\"\u001b[39;00m\n\u001b[0;32m    299\u001b[0m \u001b[39mif\u001b[39;00m \u001b[39mself\u001b[39m\u001b[39m.\u001b[39m__r \u001b[39mis\u001b[39;00m \u001b[39mNone\u001b[39;00m:\n\u001b[1;32m--> 300\u001b[0m     html \u001b[39m=\u001b[39m \u001b[39mself\u001b[39;49m\u001b[39m.\u001b[39;49m_get_html(url\u001b[39m=\u001b[39;49mURL)\n\u001b[0;32m    301\u001b[0m \u001b[39melse\u001b[39;00m:\n\u001b[0;32m    302\u001b[0m     html \u001b[39m=\u001b[39m \u001b[39mself\u001b[39m\u001b[39m.\u001b[39m__r\u001b[39m.\u001b[39mhtml\u001b[39m.\u001b[39mraw_html\n",
      "File \u001b[1;32mc:\\Users\\momad\\anaconda3\\envs\\worldmetric\\lib\\site-packages\\worldometer\\core.py:239\u001b[0m, in \u001b[0;36mWorldometer._get_html\u001b[1;34m(self, url)\u001b[0m\n\u001b[0;32m    236\u001b[0m     \u001b[39mreturn\u001b[39;00m \u001b[39mself\u001b[39m\u001b[39m.\u001b[39m__r\u001b[39m.\u001b[39mhtml\u001b[39m.\u001b[39mraw_html\n\u001b[0;32m    238\u001b[0m \u001b[39mexcept\u001b[39;00m \u001b[39mException\u001b[39;00m \u001b[39mas\u001b[39;00m err:\n\u001b[1;32m--> 239\u001b[0m     \u001b[39mraise\u001b[39;00m \u001b[39mException\u001b[39;00m(err)\n",
      "\u001b[1;31mException\u001b[0m: Cannot use HTMLSession within an existing event loop. Use AsyncHTMLSession instead."
     ]
    }
   ],
   "source": [
    "#!pip install worldometer\n",
    "#pip install worldometer\n",
    "import worldometer\n",
    "\n",
    "pop = worldometer.current_world_population()\n",
    "#{'current_world_population': 7845085923}\n",
    "\n",
    "twt = worldometer.tweets_sent_today()\n",
    "#{'tweets_sent_today': 4539558}\n",
    "\n",
    "com = worldometer.get_metric_of(label='computers_produced_this_year')\n",
    "\n",
    "#{'computers_produced_this_year': 27760858}\n",
    "\n",
    "print(pop)\n",
    "print(twt)\n",
    "print(com)"
   ]
  }
 ],
 "metadata": {
  "kernelspec": {
   "display_name": "worldmetric",
   "language": "python",
   "name": "python3"
  },
  "language_info": {
   "codemirror_mode": {
    "name": "ipython",
    "version": 3
   },
   "file_extension": ".py",
   "mimetype": "text/x-python",
   "name": "python",
   "nbconvert_exporter": "python",
   "pygments_lexer": "ipython3",
   "version": "3.9.16"
  },
  "orig_nbformat": 4
 },
 "nbformat": 4,
 "nbformat_minor": 2
}
